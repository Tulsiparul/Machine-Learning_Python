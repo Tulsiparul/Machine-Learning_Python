{
 "cells": [
  {
   "cell_type": "markdown",
   "id": "a82fd4de",
   "metadata": {},
   "source": [
    "### Functions and Modules in Python"
   ]
  },
  {
   "cell_type": "markdown",
   "id": "9c1d2039",
   "metadata": {},
   "source": [
    "Functions"
   ]
  },
  {
   "cell_type": "markdown",
   "id": "d7d88a92",
   "metadata": {},
   "source": [
    "If a group of statements is repetadely required then it is not recommended to write these \n",
    "statements everytime separately. We have to define these statements as a single unit and \n",
    "we can call that unit a number of times based on our requirement without rewriting. This unit\n",
    "is nothing but function.\n",
    "\n",
    "The main advantage of function is code reusability.\n",
    "Note - In other languages functions are known as method, procedures, subroutines etc\n",
    "\n",
    "Python Supports 2 types of functions\n",
    "1. Built in Functions - id(), type(), len(), input() etc\n",
    "2. User Defined Functions"
   ]
  },
  {
   "cell_type": "code",
   "execution_count": null,
   "id": "06383a49",
   "metadata": {},
   "outputs": [],
   "source": [
    "The functions which are developed by the programmer explicitly according to the requireemnts\n",
    "those are called User Defined Functions"
   ]
  },
  {
   "cell_type": "code",
   "execution_count": null,
   "id": "a7e2d5d5",
   "metadata": {},
   "outputs": [],
   "source": [
    "Syntax - \n",
    "def function_name(paramter):  ### function_name  - Can be anything\n",
    "    statement - 1"
   ]
  },
  {
   "cell_type": "code",
   "execution_count": null,
   "id": "2523ee26",
   "metadata": {},
   "outputs": [],
   "source": [
    "Note - While creating functions we can use 2 keywords\n",
    "1. def (mandatory)\n",
    "2. return (optional)"
   ]
  },
  {
   "cell_type": "code",
   "execution_count": 2,
   "id": "37b6306f",
   "metadata": {},
   "outputs": [],
   "source": [
    "#### Write a function to print Hello\n",
    "def wishing():\n",
    "    print(\"Hello\")  ### Defining the function"
   ]
  },
  {
   "cell_type": "code",
   "execution_count": 3,
   "id": "36ef7cfe",
   "metadata": {},
   "outputs": [
    {
     "name": "stdout",
     "output_type": "stream",
     "text": [
      "Hello\n"
     ]
    }
   ],
   "source": [
    "wishing()  #### Calling the function"
   ]
  },
  {
   "cell_type": "code",
   "execution_count": 4,
   "id": "ec221b8d",
   "metadata": {},
   "outputs": [
    {
     "name": "stdout",
     "output_type": "stream",
     "text": [
      "Hello\n"
     ]
    }
   ],
   "source": [
    "wishing()"
   ]
  },
  {
   "cell_type": "code",
   "execution_count": null,
   "id": "152efa6c",
   "metadata": {},
   "outputs": [],
   "source": [
    "Note - While a passing a parameter in function, while callig also you have to give parameter values"
   ]
  },
  {
   "cell_type": "code",
   "execution_count": null,
   "id": "32f86d0a",
   "metadata": {},
   "outputs": [],
   "source": [
    "Parameter are inputs to the functions. If a function contains a parameter then at\n",
    "the time of calling compulsory we should provide values otherwise you will get error"
   ]
  },
  {
   "cell_type": "code",
   "execution_count": 5,
   "id": "e875b0c3",
   "metadata": {},
   "outputs": [],
   "source": [
    "def wish (name): ## name is a parameter\n",
    "    print(\"Hello\",name,\"Good Afternoon\")"
   ]
  },
  {
   "cell_type": "code",
   "execution_count": 6,
   "id": "a809345a",
   "metadata": {},
   "outputs": [
    {
     "name": "stdout",
     "output_type": "stream",
     "text": [
      "Hello Raj Good Afternoon\n"
     ]
    }
   ],
   "source": [
    "wish(\"Raj\")"
   ]
  },
  {
   "cell_type": "code",
   "execution_count": 7,
   "id": "2306bdae",
   "metadata": {},
   "outputs": [
    {
     "name": "stdout",
     "output_type": "stream",
     "text": [
      "Hello Rohan Good Afternoon\n"
     ]
    }
   ],
   "source": [
    "wish(\"Rohan\")"
   ]
  },
  {
   "cell_type": "code",
   "execution_count": null,
   "id": "b296876f",
   "metadata": {},
   "outputs": [],
   "source": [
    "### Write a function to take number as input and print its square value\n",
    "### Write functions to add, sub, multiply and divide two numbers."
   ]
  },
  {
   "cell_type": "code",
   "execution_count": null,
   "id": "a00b9275",
   "metadata": {},
   "outputs": [],
   "source": [
    "## Return Statement\n",
    "Function can take input as parameters and executes buisness logic and returns output to the\n",
    "caller with the return statement"
   ]
  },
  {
   "cell_type": "code",
   "execution_count": 8,
   "id": "1870819e",
   "metadata": {},
   "outputs": [],
   "source": [
    "def add(x,y):\n",
    "    return x+y"
   ]
  },
  {
   "cell_type": "code",
   "execution_count": 10,
   "id": "b54d0ccc",
   "metadata": {},
   "outputs": [],
   "source": [
    "result = add(12,15)"
   ]
  },
  {
   "cell_type": "code",
   "execution_count": 12,
   "id": "1c19f0b0",
   "metadata": {},
   "outputs": [
    {
     "name": "stdout",
     "output_type": "stream",
     "text": [
      "The Addition is 27\n",
      "The addition is 350\n"
     ]
    }
   ],
   "source": [
    "print(\"The Addition is\", result)\n",
    "print(\"The addition is\", add(150,200))"
   ]
  },
  {
   "cell_type": "code",
   "execution_count": 13,
   "id": "f44b5e16",
   "metadata": {},
   "outputs": [],
   "source": [
    "### Can you write a program to check whether the given number is odd or even\n",
    "def even_odd(num):\n",
    "    if num%2 == 0:\n",
    "        print(num,\"The Number is Even\")\n",
    "    else:\n",
    "        print(num, \"The Number is Odd\")"
   ]
  },
  {
   "cell_type": "code",
   "execution_count": 16,
   "id": "d315ab46",
   "metadata": {},
   "outputs": [
    {
     "name": "stdout",
     "output_type": "stream",
     "text": [
      "898976546 The Number is Even\n"
     ]
    }
   ],
   "source": [
    "even_odd(898976546)"
   ]
  },
  {
   "cell_type": "code",
   "execution_count": null,
   "id": "1a8298a3",
   "metadata": {},
   "outputs": [],
   "source": [
    "### retruning multiple values from a function - \n",
    "In other languages like C++, Java function can return atmost one value, but in python it can return \n",
    "multiple values"
   ]
  },
  {
   "cell_type": "code",
   "execution_count": 19,
   "id": "8290b887",
   "metadata": {},
   "outputs": [],
   "source": [
    "def sum_sub(a,b):\n",
    "    sum = a+b\n",
    "    sub = a-b\n",
    "    #return sum, sub"
   ]
  },
  {
   "cell_type": "code",
   "execution_count": 21,
   "id": "bfa4303b",
   "metadata": {},
   "outputs": [],
   "source": [
    "x, y = sum_sub(14,18)"
   ]
  },
  {
   "cell_type": "code",
   "execution_count": 22,
   "id": "ba43d737",
   "metadata": {},
   "outputs": [
    {
     "name": "stdout",
     "output_type": "stream",
     "text": [
      "The Sum is  32\n",
      "The Sub is  -4\n"
     ]
    }
   ],
   "source": [
    "print(\"The Sum is \", x)\n",
    "print(\"The Sub is \",y)"
   ]
  },
  {
   "cell_type": "code",
   "execution_count": 23,
   "id": "4fbe5665",
   "metadata": {},
   "outputs": [],
   "source": [
    "def sum_sub(a,b):\n",
    "    sum = a+b\n",
    "    sub = a-b"
   ]
  },
  {
   "cell_type": "code",
   "execution_count": 24,
   "id": "384a936b",
   "metadata": {},
   "outputs": [],
   "source": [
    "sum_sub(10,15)"
   ]
  },
  {
   "cell_type": "code",
   "execution_count": null,
   "id": "63d5e4f7",
   "metadata": {},
   "outputs": [],
   "source": [
    "There are types of Arguments\n",
    "def f1(a,b):\n",
    "    -----\n",
    "    ----\n",
    "f1(10,20)"
   ]
  },
  {
   "cell_type": "code",
   "execution_count": null,
   "id": "44612a58",
   "metadata": {},
   "outputs": [],
   "source": [
    "a, b are formal arguments  where as 10, 20 are actuaol argumeents\n",
    "1. positional Argument\n",
    "2. Keyword Argument\n",
    "3. Default argument\n",
    "4. Variable length Argument"
   ]
  },
  {
   "cell_type": "code",
   "execution_count": 29,
   "id": "cf52ff54",
   "metadata": {},
   "outputs": [],
   "source": [
    "#1. Positional Argument\n",
    "def sub(a,b,c):\n",
    "    return a - b"
   ]
  },
  {
   "cell_type": "code",
   "execution_count": 30,
   "id": "c50b3b62",
   "metadata": {
    "collapsed": true
   },
   "outputs": [
    {
     "ename": "TypeError",
     "evalue": "sub() missing 1 required positional argument: 'c'",
     "output_type": "error",
     "traceback": [
      "\u001b[1;31m---------------------------------------------------------------------------\u001b[0m",
      "\u001b[1;31mTypeError\u001b[0m                                 Traceback (most recent call last)",
      "\u001b[1;32m<ipython-input-30-5281ccb0ae94>\u001b[0m in \u001b[0;36m<module>\u001b[1;34m\u001b[0m\n\u001b[1;32m----> 1\u001b[1;33m \u001b[0mprint\u001b[0m\u001b[1;33m(\u001b[0m\u001b[0msub\u001b[0m\u001b[1;33m(\u001b[0m\u001b[1;36m100\u001b[0m\u001b[1;33m,\u001b[0m\u001b[1;36m200\u001b[0m\u001b[1;33m)\u001b[0m\u001b[1;33m)\u001b[0m\u001b[1;33m\u001b[0m\u001b[1;33m\u001b[0m\u001b[0m\n\u001b[0m\u001b[0;32m      2\u001b[0m \u001b[0mprint\u001b[0m\u001b[1;33m(\u001b[0m\u001b[0msub\u001b[0m\u001b[1;33m(\u001b[0m\u001b[1;36m200\u001b[0m\u001b[1;33m,\u001b[0m\u001b[1;36m500\u001b[0m\u001b[1;33m)\u001b[0m\u001b[1;33m)\u001b[0m\u001b[1;33m\u001b[0m\u001b[1;33m\u001b[0m\u001b[0m\n",
      "\u001b[1;31mTypeError\u001b[0m: sub() missing 1 required positional argument: 'c'"
     ]
    }
   ],
   "source": [
    "print(sub(100,200))\n",
    "print(sub(200,500))"
   ]
  },
  {
   "cell_type": "code",
   "execution_count": null,
   "id": "cd02f377",
   "metadata": {},
   "outputs": [],
   "source": [
    "## 2. Keyword Argument\n",
    "We can pass argument values by keywords, i.e by parameter name"
   ]
  },
  {
   "cell_type": "code",
   "execution_count": 31,
   "id": "72125154",
   "metadata": {},
   "outputs": [],
   "source": [
    "def wish (name , msg):\n",
    "    print(\"Hello\", name, msg)"
   ]
  },
  {
   "cell_type": "code",
   "execution_count": 32,
   "id": "bef3f2a3",
   "metadata": {},
   "outputs": [
    {
     "name": "stdout",
     "output_type": "stream",
     "text": [
      "Hello Rahul How are you\n"
     ]
    }
   ],
   "source": [
    "wish(name = \"Rahul\", msg = \"How are you\")"
   ]
  },
  {
   "cell_type": "code",
   "execution_count": 35,
   "id": "896523a6",
   "metadata": {},
   "outputs": [
    {
     "name": "stdout",
     "output_type": "stream",
     "text": [
      "Hello Very Good Morning Rohan\n"
     ]
    }
   ],
   "source": [
    "wish(\"Very Good Morning\",\"Rohan\")"
   ]
  },
  {
   "cell_type": "code",
   "execution_count": null,
   "id": "a71cbd84",
   "metadata": {},
   "outputs": [],
   "source": [
    "### Hence here the order is not important but the number of arguments shuld be matched"
   ]
  },
  {
   "cell_type": "code",
   "execution_count": 46,
   "id": "c869258b",
   "metadata": {},
   "outputs": [],
   "source": [
    "### 3. Default Argument\n",
    "def wish(Name,Age = 37,Class = 5):  ### Whenever you define multiple parameter and one is your defalt,it hsould \n",
    "    #be mentioned ast the last\n",
    "    print(Name, \" = \", Age, Class)\n",
    "    ### Non-default arguments follows default arguments"
   ]
  },
  {
   "cell_type": "code",
   "execution_count": 47,
   "id": "62805657",
   "metadata": {},
   "outputs": [
    {
     "name": "stdout",
     "output_type": "stream",
     "text": [
      "Rohan  =  37 5\n"
     ]
    }
   ],
   "source": [
    "wish(\"Rohan\")"
   ]
  },
  {
   "cell_type": "code",
   "execution_count": 38,
   "id": "649b1f9f",
   "metadata": {},
   "outputs": [
    {
     "name": "stdout",
     "output_type": "stream",
     "text": [
      "hello Guest Good Afternoon\n"
     ]
    }
   ],
   "source": [
    "wish()"
   ]
  },
  {
   "cell_type": "code",
   "execution_count": null,
   "id": "10c10d0b",
   "metadata": {},
   "outputs": [],
   "source": [
    "### 4. variable length Argument\n",
    "Sometimes we can pass variable number of arguments to our function, such \n",
    "type are called as variable length argument"
   ]
  },
  {
   "cell_type": "code",
   "execution_count": null,
   "id": "123eb69c",
   "metadata": {},
   "outputs": [],
   "source": [
    "## We can declare the varible length argument with * symbol"
   ]
  },
  {
   "cell_type": "code",
   "execution_count": 66,
   "id": "4fcfbe7b",
   "metadata": {},
   "outputs": [],
   "source": [
    "def f1(Name,**n):\n",
    "    print(Name,n)"
   ]
  },
  {
   "cell_type": "code",
   "execution_count": 67,
   "id": "7daa8796",
   "metadata": {},
   "outputs": [
    {
     "ename": "SyntaxError",
     "evalue": "positional argument follows keyword argument (<ipython-input-67-f1b3dd49c7d3>, line 1)",
     "output_type": "error",
     "traceback": [
      "\u001b[1;36m  File \u001b[1;32m\"<ipython-input-67-f1b3dd49c7d3>\"\u001b[1;36m, line \u001b[1;32m1\u001b[0m\n\u001b[1;33m    f1(Name = \"Rohan\", 76)\u001b[0m\n\u001b[1;37m                       ^\u001b[0m\n\u001b[1;31mSyntaxError\u001b[0m\u001b[1;31m:\u001b[0m positional argument follows keyword argument\n"
     ]
    }
   ],
   "source": [
    "f1(Name = \"Rohan\", 76)"
   ]
  },
  {
   "cell_type": "code",
   "execution_count": 72,
   "id": "839ed3ec",
   "metadata": {},
   "outputs": [],
   "source": [
    "def rto (*cars):\n",
    "    print(cars)"
   ]
  },
  {
   "cell_type": "code",
   "execution_count": 73,
   "id": "55627d27",
   "metadata": {},
   "outputs": [
    {
     "name": "stdout",
     "output_type": "stream",
     "text": [
      "('Suzuki', 45, 78)\n"
     ]
    }
   ],
   "source": [
    "rto(\"Suzuki\",45, 78)"
   ]
  },
  {
   "cell_type": "code",
   "execution_count": 68,
   "id": "17d33800",
   "metadata": {},
   "outputs": [],
   "source": [
    "def g1(*n,Age):  #### When we are passing variable length argument we have define first after that\n",
    "    #### non variable, non-default length argument\n",
    "    print(n, Age)"
   ]
  },
  {
   "cell_type": "code",
   "execution_count": 69,
   "id": "021bba6a",
   "metadata": {},
   "outputs": [
    {
     "name": "stdout",
     "output_type": "stream",
     "text": [
      "('Rahul',) 45\n"
     ]
    }
   ],
   "source": [
    "g1(\"Rahul\", Age = 45)"
   ]
  },
  {
   "cell_type": "code",
   "execution_count": 70,
   "id": "14448757",
   "metadata": {},
   "outputs": [],
   "source": [
    "def f1 (**kwargs):  #### Key word argument\n",
    "    print(kwargs)"
   ]
  },
  {
   "cell_type": "code",
   "execution_count": 74,
   "id": "a0884b5f",
   "metadata": {},
   "outputs": [
    {
     "name": "stdout",
     "output_type": "stream",
     "text": [
      "{'car': 'Suzuki', 'mpg': 45, 'horsepower': 80}\n"
     ]
    }
   ],
   "source": [
    "f1(car = \"Suzuki\", mpg = 45, horsepower = 80)  ### return the output in dict"
   ]
  },
  {
   "cell_type": "code",
   "execution_count": null,
   "id": "8f30a138",
   "metadata": {},
   "outputs": [],
   "source": [
    "There are two types of variable\n",
    "1. Local variable \n",
    "2. Global variable"
   ]
  },
  {
   "cell_type": "code",
   "execution_count": 78,
   "id": "ce2ad515",
   "metadata": {},
   "outputs": [],
   "source": [
    "a = 10  ### Global variable\n",
    "def f1():\n",
    "    print(a)\n",
    "def f2():\n",
    "    print(a)"
   ]
  },
  {
   "cell_type": "code",
   "execution_count": 79,
   "id": "4f608196",
   "metadata": {},
   "outputs": [
    {
     "name": "stdout",
     "output_type": "stream",
     "text": [
      "10\n",
      "10\n"
     ]
    }
   ],
   "source": [
    "f1()\n",
    "f2()"
   ]
  },
  {
   "cell_type": "code",
   "execution_count": 84,
   "id": "3d653d18",
   "metadata": {},
   "outputs": [],
   "source": [
    "#2. Local Variable\n",
    "def f1():\n",
    "    t = 10   #### Local variable\n",
    "    print(t)\n",
    "def f2():\n",
    "    print(t)"
   ]
  },
  {
   "cell_type": "code",
   "execution_count": 85,
   "id": "008cdef7",
   "metadata": {},
   "outputs": [
    {
     "name": "stdout",
     "output_type": "stream",
     "text": [
      "10\n"
     ]
    },
    {
     "ename": "NameError",
     "evalue": "name 't' is not defined",
     "output_type": "error",
     "traceback": [
      "\u001b[1;31m---------------------------------------------------------------------------\u001b[0m",
      "\u001b[1;31mNameError\u001b[0m                                 Traceback (most recent call last)",
      "\u001b[1;32m<ipython-input-85-f0c9f9ca0c00>\u001b[0m in \u001b[0;36m<module>\u001b[1;34m\u001b[0m\n\u001b[0;32m      1\u001b[0m \u001b[0mf1\u001b[0m\u001b[1;33m(\u001b[0m\u001b[1;33m)\u001b[0m\u001b[1;33m\u001b[0m\u001b[1;33m\u001b[0m\u001b[0m\n\u001b[1;32m----> 2\u001b[1;33m \u001b[0mf2\u001b[0m\u001b[1;33m(\u001b[0m\u001b[1;33m)\u001b[0m\u001b[1;33m\u001b[0m\u001b[1;33m\u001b[0m\u001b[0m\n\u001b[0m",
      "\u001b[1;32m<ipython-input-84-e89c3899b023>\u001b[0m in \u001b[0;36mf2\u001b[1;34m()\u001b[0m\n\u001b[0;32m      4\u001b[0m     \u001b[0mprint\u001b[0m\u001b[1;33m(\u001b[0m\u001b[0mt\u001b[0m\u001b[1;33m)\u001b[0m\u001b[1;33m\u001b[0m\u001b[1;33m\u001b[0m\u001b[0m\n\u001b[0;32m      5\u001b[0m \u001b[1;32mdef\u001b[0m \u001b[0mf2\u001b[0m\u001b[1;33m(\u001b[0m\u001b[1;33m)\u001b[0m\u001b[1;33m:\u001b[0m\u001b[1;33m\u001b[0m\u001b[1;33m\u001b[0m\u001b[0m\n\u001b[1;32m----> 6\u001b[1;33m     \u001b[0mprint\u001b[0m\u001b[1;33m(\u001b[0m\u001b[0mt\u001b[0m\u001b[1;33m)\u001b[0m\u001b[1;33m\u001b[0m\u001b[1;33m\u001b[0m\u001b[0m\n\u001b[0m",
      "\u001b[1;31mNameError\u001b[0m: name 't' is not defined"
     ]
    }
   ],
   "source": [
    "f1()\n",
    "f2()"
   ]
  },
  {
   "cell_type": "code",
   "execution_count": 82,
   "id": "31ae1d74",
   "metadata": {},
   "outputs": [
    {
     "name": "stdout",
     "output_type": "stream",
     "text": [
      "10\n"
     ]
    }
   ],
   "source": [
    "f2()"
   ]
  },
  {
   "cell_type": "code",
   "execution_count": null,
   "id": "8d014a88",
   "metadata": {},
   "outputs": [],
   "source": [
    "global keyword\n",
    "### to declare global variable inside function \n",
    "## to make gloabal variable available to the function so that we can perform required modifications"
   ]
  },
  {
   "cell_type": "code",
   "execution_count": 89,
   "id": "a35c100f",
   "metadata": {},
   "outputs": [],
   "source": [
    "a =10\n",
    "def f1():\n",
    "    global a\n",
    "    a = 777\n",
    "    print(a)\n",
    "\n",
    "def f2():\n",
    "    print(a)"
   ]
  },
  {
   "cell_type": "code",
   "execution_count": 90,
   "id": "42c052eb",
   "metadata": {},
   "outputs": [
    {
     "name": "stdout",
     "output_type": "stream",
     "text": [
      "777\n"
     ]
    }
   ],
   "source": [
    "f1()"
   ]
  },
  {
   "cell_type": "code",
   "execution_count": 91,
   "id": "afcde276",
   "metadata": {},
   "outputs": [
    {
     "name": "stdout",
     "output_type": "stream",
     "text": [
      "777\n"
     ]
    }
   ],
   "source": [
    "f2()"
   ]
  },
  {
   "cell_type": "code",
   "execution_count": null,
   "id": "fd4d0907",
   "metadata": {},
   "outputs": [],
   "source": [
    "### Anonymous Functions - Sometimes we define a function without a name, nameless function\n",
    "or Lambda Function"
   ]
  },
  {
   "cell_type": "code",
   "execution_count": 92,
   "id": "52bc6b1e",
   "metadata": {},
   "outputs": [],
   "source": [
    "### Normal User Defined Function\n",
    "def square(n):\n",
    "    return n*n"
   ]
  },
  {
   "cell_type": "code",
   "execution_count": 93,
   "id": "06562b70",
   "metadata": {},
   "outputs": [
    {
     "data": {
      "text/plain": [
       "4"
      ]
     },
     "execution_count": 93,
     "metadata": {},
     "output_type": "execute_result"
    }
   ],
   "source": [
    "square(2)"
   ]
  },
  {
   "cell_type": "code",
   "execution_count": 95,
   "id": "8e19739a",
   "metadata": {},
   "outputs": [],
   "source": [
    "#### Anonymous Function (Lambda)\n",
    "a = lambda n: n*n"
   ]
  },
  {
   "cell_type": "code",
   "execution_count": 96,
   "id": "f60e713f",
   "metadata": {},
   "outputs": [
    {
     "data": {
      "text/plain": [
       "36"
      ]
     },
     "execution_count": 96,
     "metadata": {},
     "output_type": "execute_result"
    }
   ],
   "source": [
    "a(6)"
   ]
  },
  {
   "cell_type": "code",
   "execution_count": 97,
   "id": "b76f87aa",
   "metadata": {},
   "outputs": [],
   "source": [
    "add = lambda a,b : a+b"
   ]
  },
  {
   "cell_type": "code",
   "execution_count": 98,
   "id": "abf32b17",
   "metadata": {},
   "outputs": [
    {
     "data": {
      "text/plain": [
       "101"
      ]
     },
     "execution_count": 98,
     "metadata": {},
     "output_type": "execute_result"
    }
   ],
   "source": [
    "add(23,78)"
   ]
  },
  {
   "cell_type": "code",
   "execution_count": 100,
   "id": "f2aca424",
   "metadata": {},
   "outputs": [
    {
     "data": {
      "text/plain": [
       "20"
      ]
     },
     "execution_count": 100,
     "metadata": {},
     "output_type": "execute_result"
    }
   ],
   "source": [
    "### Write a program to find the biggest of given values\n",
    "s = lambda a,b,c : a if a> b and b > c else b if b < c else c\n",
    "s(10,20,89)"
   ]
  },
  {
   "cell_type": "code",
   "execution_count": null,
   "id": "47d7fbc8",
   "metadata": {},
   "outputs": [],
   "source": [
    "#### Modules - In Python\n",
    "Math module - All mathematical functions are present over here\n",
    "Module -  Is basically a code libaray, where pre-defined functions are present"
   ]
  },
  {
   "cell_type": "code",
   "execution_count": 105,
   "id": "d60c7854",
   "metadata": {},
   "outputs": [],
   "source": [
    "import math as m ## Here m is just an alias"
   ]
  },
  {
   "cell_type": "code",
   "execution_count": 103,
   "id": "7ff518a3",
   "metadata": {},
   "outputs": [],
   "source": [
    "from math import sqrt"
   ]
  },
  {
   "cell_type": "code",
   "execution_count": 104,
   "id": "5b7d8b12",
   "metadata": {},
   "outputs": [
    {
     "data": {
      "text/plain": [
       "2.0"
      ]
     },
     "execution_count": 104,
     "metadata": {},
     "output_type": "execute_result"
    }
   ],
   "source": [
    "sqrt(4)"
   ]
  },
  {
   "cell_type": "code",
   "execution_count": 106,
   "id": "e9790a85",
   "metadata": {},
   "outputs": [
    {
     "data": {
      "text/plain": [
       "2.0"
      ]
     },
     "execution_count": 106,
     "metadata": {},
     "output_type": "execute_result"
    }
   ],
   "source": [
    "m.sqrt(4)"
   ]
  },
  {
   "cell_type": "code",
   "execution_count": 107,
   "id": "9ca832cd",
   "metadata": {},
   "outputs": [],
   "source": [
    "import math"
   ]
  },
  {
   "cell_type": "code",
   "execution_count": 108,
   "id": "399612fa",
   "metadata": {},
   "outputs": [
    {
     "data": {
      "text/plain": [
       "2.0"
      ]
     },
     "execution_count": 108,
     "metadata": {},
     "output_type": "execute_result"
    }
   ],
   "source": [
    "math.sqrt(4)"
   ]
  },
  {
   "cell_type": "code",
   "execution_count": 110,
   "id": "8f196653",
   "metadata": {},
   "outputs": [
    {
     "data": {
      "text/plain": [
       "3.141592653589793"
      ]
     },
     "execution_count": 110,
     "metadata": {},
     "output_type": "execute_result"
    }
   ],
   "source": [
    "math.pi"
   ]
  },
  {
   "cell_type": "code",
   "execution_count": null,
   "id": "5025c67c",
   "metadata": {},
   "outputs": [],
   "source": [
    "Using a math Module can you write a program to find the area of a circle for any given radius\n",
    "Area of a Rhombus, Circumeference of a circle, cylinder\n",
    "### hint  - pi* r^2"
   ]
  },
  {
   "cell_type": "code",
   "execution_count": 111,
   "id": "76279cdc",
   "metadata": {},
   "outputs": [
    {
     "name": "stdout",
     "output_type": "stream",
     "text": [
      "Enter the Radius4\n"
     ]
    },
    {
     "data": {
      "text/plain": [
       "18.84955592153876"
      ]
     },
     "execution_count": 111,
     "metadata": {},
     "output_type": "execute_result"
    }
   ],
   "source": [
    "import math as m\n",
    "pi = math.pi\n",
    "r = int(input(\"Enter the Radius\"))\n",
    "Area_circle = pi*(r^2)\n",
    "Area_circle"
   ]
  },
  {
   "cell_type": "code",
   "execution_count": 112,
   "id": "b8a11aa3",
   "metadata": {},
   "outputs": [],
   "source": [
    "### Pandas - Pandas is mostlu used for Data Analysis and Preprocess (Exploratory Data Analysis)"
   ]
  },
  {
   "cell_type": "code",
   "execution_count": 113,
   "id": "824cb6ef",
   "metadata": {},
   "outputs": [],
   "source": [
    "import pandas as pd\n",
    "### A library for Data manipulation and Analysis"
   ]
  },
  {
   "cell_type": "code",
   "execution_count": 114,
   "id": "edfe23dd",
   "metadata": {},
   "outputs": [],
   "source": [
    "#### In pandas there are two things \n",
    "##  1. Series - One dimensional array\n",
    "### 2. Data Frame - Two Dimensional Array"
   ]
  },
  {
   "cell_type": "code",
   "execution_count": 118,
   "id": "013fe3d3",
   "metadata": {},
   "outputs": [
    {
     "data": {
      "text/plain": [
       "([10, 20, 30, 40, 50], list)"
      ]
     },
     "execution_count": 118,
     "metadata": {},
     "output_type": "execute_result"
    }
   ],
   "source": [
    "l = [10,20,30,40,50]\n",
    "l, type(l)"
   ]
  },
  {
   "cell_type": "code",
   "execution_count": 119,
   "id": "7f5c7330",
   "metadata": {},
   "outputs": [
    {
     "data": {
      "text/plain": [
       "(0    10\n",
       " 1    20\n",
       " 2    30\n",
       " 3    40\n",
       " 4    50\n",
       " dtype: int64,\n",
       " pandas.core.series.Series)"
      ]
     },
     "execution_count": 119,
     "metadata": {},
     "output_type": "execute_result"
    }
   ],
   "source": [
    "s = pd.Series(l)\n",
    "s, type(s)"
   ]
  },
  {
   "cell_type": "code",
   "execution_count": 120,
   "id": "e272ef99",
   "metadata": {
    "collapsed": true
   },
   "outputs": [
    {
     "data": {
      "text/html": [
       "<div>\n",
       "<style scoped>\n",
       "    .dataframe tbody tr th:only-of-type {\n",
       "        vertical-align: middle;\n",
       "    }\n",
       "\n",
       "    .dataframe tbody tr th {\n",
       "        vertical-align: top;\n",
       "    }\n",
       "\n",
       "    .dataframe thead th {\n",
       "        text-align: right;\n",
       "    }\n",
       "</style>\n",
       "<table border=\"1\" class=\"dataframe\">\n",
       "  <thead>\n",
       "    <tr style=\"text-align: right;\">\n",
       "      <th></th>\n",
       "      <th>0</th>\n",
       "    </tr>\n",
       "  </thead>\n",
       "  <tbody>\n",
       "    <tr>\n",
       "      <th>0</th>\n",
       "      <td>10</td>\n",
       "    </tr>\n",
       "    <tr>\n",
       "      <th>1</th>\n",
       "      <td>20</td>\n",
       "    </tr>\n",
       "    <tr>\n",
       "      <th>2</th>\n",
       "      <td>30</td>\n",
       "    </tr>\n",
       "    <tr>\n",
       "      <th>3</th>\n",
       "      <td>40</td>\n",
       "    </tr>\n",
       "    <tr>\n",
       "      <th>4</th>\n",
       "      <td>50</td>\n",
       "    </tr>\n",
       "  </tbody>\n",
       "</table>\n",
       "</div>"
      ],
      "text/plain": [
       "    0\n",
       "0  10\n",
       "1  20\n",
       "2  30\n",
       "3  40\n",
       "4  50"
      ]
     },
     "execution_count": 120,
     "metadata": {},
     "output_type": "execute_result"
    }
   ],
   "source": [
    "### Data Frame  - is a two dimesional array with rows and Columns\n",
    "d = pd.DataFrame(l)\n",
    "d"
   ]
  },
  {
   "cell_type": "code",
   "execution_count": 121,
   "id": "921a7975",
   "metadata": {},
   "outputs": [],
   "source": [
    "### How to read a file in Python\n",
    "# Exploratory Data Analysis - If there is a Data and you want to understand the history and its various \n",
    "# areas about the data while exploring that is called as Exploratory Data Analysis"
   ]
  },
  {
   "cell_type": "code",
   "execution_count": 124,
   "id": "cc458df2",
   "metadata": {
    "collapsed": true
   },
   "outputs": [
    {
     "data": {
      "text/plain": [
       "(    Customer   Age      Sex  Groceries  Choco-bars  Type   Satisfied   Bulk\n",
       " 0           1    36    Male        180           3  White           4     3\n",
       " 1           2    45    Male        180           4   Milk           3     2\n",
       " 2           3    20  Female        220           3  White           2     3\n",
       " 3           4    27  Female        180           2  White           4     2\n",
       " 4           5    22  Female        220           5   Milk           3     2\n",
       " 5           6    39    Male        150           2   Dark           4     2\n",
       " 6           7    30    Male        220           5   Dark           2     4\n",
       " 7           8    42    Male        220           2   Milk           4     1\n",
       " 8           9    20  Female        250           3  White           4     4\n",
       " 9          10    40  Female        180           2   Milk           3     1\n",
       " 10         11    38  Female        180           2  White           2     3\n",
       " 11         12    31    Male        150           4   Dark           2     1\n",
       " 12         13    19    Male        220           2   Dark           2     3\n",
       " 13         14    23    Male        180           5   Dark           1     4\n",
       " 14         15    36  Female        200           2  White           4     1\n",
       " 15         16    24  Female        150           3  White           3     4\n",
       " 16         17    28  Female        220           4   Milk           1     3\n",
       " 17         18    25    Male        220           3   Dark           3     3\n",
       " 18         19    34    Male        220           4   Dark           4     1\n",
       " 19         20    39    Male        200           4   Dark           4     2\n",
       " 20         21    20  Female        220           5   Dark           4     1\n",
       " 21         22    44  Female        200           3   Milk           4     4\n",
       " 22         23    20  Female        220           3   Dark           2     4\n",
       " 23         24    31    Male        250           4   Dark           4     4\n",
       " 24         25    32    Male        250           3   Milk           1     3\n",
       " 25         26    29    Male        180           3   Dark           1     4\n",
       " 26         27    22  Female        150           4   Dark           3     3\n",
       " 27         28    19  Female        200           2   Dark           3     2\n",
       " 28         29    40  Female        150           4   Dark           2     1\n",
       " 29         30    29    Male        250           3  White           4     4\n",
       " 30         31    40    Male        220           5  White           1     1\n",
       " 31         32    36    Male        180           5   Milk           2     3\n",
       " 32         33    22  Female        150           5   Dark           2     2\n",
       " 33         34    32  Female        200           5   Milk           1     1\n",
       " 34         35    18  Female        150           2   Dark           3     1\n",
       " 35         36    45    Male        150           2   Dark           1     3\n",
       " 36         37    23    Male        220           4   Dark           3     2\n",
       " 37         38    42    Male        200           2   Milk           3     3\n",
       " 38         39    20  Female        150           5   Dark           2     4\n",
       " 39         40    44  Female        250           3  White           3     3\n",
       " 40         41    23  Female        220           4   Dark           2     1\n",
       " 41         42    24    Male        150           2   Dark           2     1\n",
       " 42         43    29    Male        180           4  White           2     4\n",
       " 43         44    32    Male        150           4   Dark           2     1\n",
       " 44         45    26  Female        250           2  White           4     3\n",
       " 45         46    40  Female        250           3   Dark           3     4\n",
       " 46         47    37  Female        220           5  White           2     4\n",
       " 47         48    23    Male        150           5   Dark           4     3\n",
       " 48         49    36    Male        180           4  White           3     3\n",
       " 49         50    24    Male        180           2   Dark           4     3,\n",
       " pandas.core.frame.DataFrame)"
      ]
     },
     "execution_count": 124,
     "metadata": {},
     "output_type": "execute_result"
    }
   ],
   "source": [
    "df = pd.read_excel(\"E:/Top Mentor/Datasets/Example.xlsx\")\n",
    "df, type(df)"
   ]
  },
  {
   "cell_type": "code",
   "execution_count": 127,
   "id": "15e8a768",
   "metadata": {
    "collapsed": true
   },
   "outputs": [
    {
     "data": {
      "text/html": [
       "<div>\n",
       "<style scoped>\n",
       "    .dataframe tbody tr th:only-of-type {\n",
       "        vertical-align: middle;\n",
       "    }\n",
       "\n",
       "    .dataframe tbody tr th {\n",
       "        vertical-align: top;\n",
       "    }\n",
       "\n",
       "    .dataframe thead th {\n",
       "        text-align: right;\n",
       "    }\n",
       "</style>\n",
       "<table border=\"1\" class=\"dataframe\">\n",
       "  <thead>\n",
       "    <tr style=\"text-align: right;\">\n",
       "      <th></th>\n",
       "      <th>Customer</th>\n",
       "      <th>Age</th>\n",
       "      <th>Sex</th>\n",
       "      <th>Groceries</th>\n",
       "      <th>Choco-bars</th>\n",
       "      <th>Type</th>\n",
       "      <th>Satisfied</th>\n",
       "      <th>Bulk</th>\n",
       "    </tr>\n",
       "  </thead>\n",
       "  <tbody>\n",
       "    <tr>\n",
       "      <th>0</th>\n",
       "      <td>1</td>\n",
       "      <td>36</td>\n",
       "      <td>Male</td>\n",
       "      <td>180</td>\n",
       "      <td>3</td>\n",
       "      <td>White</td>\n",
       "      <td>4</td>\n",
       "      <td>3</td>\n",
       "    </tr>\n",
       "    <tr>\n",
       "      <th>1</th>\n",
       "      <td>2</td>\n",
       "      <td>45</td>\n",
       "      <td>Male</td>\n",
       "      <td>180</td>\n",
       "      <td>4</td>\n",
       "      <td>Milk</td>\n",
       "      <td>3</td>\n",
       "      <td>2</td>\n",
       "    </tr>\n",
       "    <tr>\n",
       "      <th>2</th>\n",
       "      <td>3</td>\n",
       "      <td>20</td>\n",
       "      <td>Female</td>\n",
       "      <td>220</td>\n",
       "      <td>3</td>\n",
       "      <td>White</td>\n",
       "      <td>2</td>\n",
       "      <td>3</td>\n",
       "    </tr>\n",
       "    <tr>\n",
       "      <th>3</th>\n",
       "      <td>4</td>\n",
       "      <td>27</td>\n",
       "      <td>Female</td>\n",
       "      <td>180</td>\n",
       "      <td>2</td>\n",
       "      <td>White</td>\n",
       "      <td>4</td>\n",
       "      <td>2</td>\n",
       "    </tr>\n",
       "    <tr>\n",
       "      <th>4</th>\n",
       "      <td>5</td>\n",
       "      <td>22</td>\n",
       "      <td>Female</td>\n",
       "      <td>220</td>\n",
       "      <td>5</td>\n",
       "      <td>Milk</td>\n",
       "      <td>3</td>\n",
       "      <td>2</td>\n",
       "    </tr>\n",
       "    <tr>\n",
       "      <th>5</th>\n",
       "      <td>6</td>\n",
       "      <td>39</td>\n",
       "      <td>Male</td>\n",
       "      <td>150</td>\n",
       "      <td>2</td>\n",
       "      <td>Dark</td>\n",
       "      <td>4</td>\n",
       "      <td>2</td>\n",
       "    </tr>\n",
       "    <tr>\n",
       "      <th>6</th>\n",
       "      <td>7</td>\n",
       "      <td>30</td>\n",
       "      <td>Male</td>\n",
       "      <td>220</td>\n",
       "      <td>5</td>\n",
       "      <td>Dark</td>\n",
       "      <td>2</td>\n",
       "      <td>4</td>\n",
       "    </tr>\n",
       "    <tr>\n",
       "      <th>7</th>\n",
       "      <td>8</td>\n",
       "      <td>42</td>\n",
       "      <td>Male</td>\n",
       "      <td>220</td>\n",
       "      <td>2</td>\n",
       "      <td>Milk</td>\n",
       "      <td>4</td>\n",
       "      <td>1</td>\n",
       "    </tr>\n",
       "    <tr>\n",
       "      <th>8</th>\n",
       "      <td>9</td>\n",
       "      <td>20</td>\n",
       "      <td>Female</td>\n",
       "      <td>250</td>\n",
       "      <td>3</td>\n",
       "      <td>White</td>\n",
       "      <td>4</td>\n",
       "      <td>4</td>\n",
       "    </tr>\n",
       "    <tr>\n",
       "      <th>9</th>\n",
       "      <td>10</td>\n",
       "      <td>40</td>\n",
       "      <td>Female</td>\n",
       "      <td>180</td>\n",
       "      <td>2</td>\n",
       "      <td>Milk</td>\n",
       "      <td>3</td>\n",
       "      <td>1</td>\n",
       "    </tr>\n",
       "    <tr>\n",
       "      <th>10</th>\n",
       "      <td>11</td>\n",
       "      <td>38</td>\n",
       "      <td>Female</td>\n",
       "      <td>180</td>\n",
       "      <td>2</td>\n",
       "      <td>White</td>\n",
       "      <td>2</td>\n",
       "      <td>3</td>\n",
       "    </tr>\n",
       "    <tr>\n",
       "      <th>11</th>\n",
       "      <td>12</td>\n",
       "      <td>31</td>\n",
       "      <td>Male</td>\n",
       "      <td>150</td>\n",
       "      <td>4</td>\n",
       "      <td>Dark</td>\n",
       "      <td>2</td>\n",
       "      <td>1</td>\n",
       "    </tr>\n",
       "    <tr>\n",
       "      <th>12</th>\n",
       "      <td>13</td>\n",
       "      <td>19</td>\n",
       "      <td>Male</td>\n",
       "      <td>220</td>\n",
       "      <td>2</td>\n",
       "      <td>Dark</td>\n",
       "      <td>2</td>\n",
       "      <td>3</td>\n",
       "    </tr>\n",
       "    <tr>\n",
       "      <th>13</th>\n",
       "      <td>14</td>\n",
       "      <td>23</td>\n",
       "      <td>Male</td>\n",
       "      <td>180</td>\n",
       "      <td>5</td>\n",
       "      <td>Dark</td>\n",
       "      <td>1</td>\n",
       "      <td>4</td>\n",
       "    </tr>\n",
       "    <tr>\n",
       "      <th>14</th>\n",
       "      <td>15</td>\n",
       "      <td>36</td>\n",
       "      <td>Female</td>\n",
       "      <td>200</td>\n",
       "      <td>2</td>\n",
       "      <td>White</td>\n",
       "      <td>4</td>\n",
       "      <td>1</td>\n",
       "    </tr>\n",
       "  </tbody>\n",
       "</table>\n",
       "</div>"
      ],
      "text/plain": [
       "    Customer   Age      Sex  Groceries  Choco-bars  Type   Satisfied   Bulk\n",
       "0           1    36    Male        180           3  White           4     3\n",
       "1           2    45    Male        180           4   Milk           3     2\n",
       "2           3    20  Female        220           3  White           2     3\n",
       "3           4    27  Female        180           2  White           4     2\n",
       "4           5    22  Female        220           5   Milk           3     2\n",
       "5           6    39    Male        150           2   Dark           4     2\n",
       "6           7    30    Male        220           5   Dark           2     4\n",
       "7           8    42    Male        220           2   Milk           4     1\n",
       "8           9    20  Female        250           3  White           4     4\n",
       "9          10    40  Female        180           2   Milk           3     1\n",
       "10         11    38  Female        180           2  White           2     3\n",
       "11         12    31    Male        150           4   Dark           2     1\n",
       "12         13    19    Male        220           2   Dark           2     3\n",
       "13         14    23    Male        180           5   Dark           1     4\n",
       "14         15    36  Female        200           2  White           4     1"
      ]
     },
     "execution_count": 127,
     "metadata": {},
     "output_type": "execute_result"
    }
   ],
   "source": [
    "df.head(15) #### Head is a function for Data Frame\n",
    "### Head would show the 1st 5 values of the data"
   ]
  },
  {
   "cell_type": "code",
   "execution_count": 128,
   "id": "0d5a1dfc",
   "metadata": {
    "collapsed": true
   },
   "outputs": [
    {
     "data": {
      "text/html": [
       "<div>\n",
       "<style scoped>\n",
       "    .dataframe tbody tr th:only-of-type {\n",
       "        vertical-align: middle;\n",
       "    }\n",
       "\n",
       "    .dataframe tbody tr th {\n",
       "        vertical-align: top;\n",
       "    }\n",
       "\n",
       "    .dataframe thead th {\n",
       "        text-align: right;\n",
       "    }\n",
       "</style>\n",
       "<table border=\"1\" class=\"dataframe\">\n",
       "  <thead>\n",
       "    <tr style=\"text-align: right;\">\n",
       "      <th></th>\n",
       "      <th>Customer</th>\n",
       "      <th>Age</th>\n",
       "      <th>Sex</th>\n",
       "      <th>Groceries</th>\n",
       "      <th>Choco-bars</th>\n",
       "      <th>Type</th>\n",
       "      <th>Satisfied</th>\n",
       "      <th>Bulk</th>\n",
       "    </tr>\n",
       "  </thead>\n",
       "  <tbody>\n",
       "    <tr>\n",
       "      <th>30</th>\n",
       "      <td>31</td>\n",
       "      <td>40</td>\n",
       "      <td>Male</td>\n",
       "      <td>220</td>\n",
       "      <td>5</td>\n",
       "      <td>White</td>\n",
       "      <td>1</td>\n",
       "      <td>1</td>\n",
       "    </tr>\n",
       "    <tr>\n",
       "      <th>31</th>\n",
       "      <td>32</td>\n",
       "      <td>36</td>\n",
       "      <td>Male</td>\n",
       "      <td>180</td>\n",
       "      <td>5</td>\n",
       "      <td>Milk</td>\n",
       "      <td>2</td>\n",
       "      <td>3</td>\n",
       "    </tr>\n",
       "    <tr>\n",
       "      <th>32</th>\n",
       "      <td>33</td>\n",
       "      <td>22</td>\n",
       "      <td>Female</td>\n",
       "      <td>150</td>\n",
       "      <td>5</td>\n",
       "      <td>Dark</td>\n",
       "      <td>2</td>\n",
       "      <td>2</td>\n",
       "    </tr>\n",
       "    <tr>\n",
       "      <th>33</th>\n",
       "      <td>34</td>\n",
       "      <td>32</td>\n",
       "      <td>Female</td>\n",
       "      <td>200</td>\n",
       "      <td>5</td>\n",
       "      <td>Milk</td>\n",
       "      <td>1</td>\n",
       "      <td>1</td>\n",
       "    </tr>\n",
       "    <tr>\n",
       "      <th>34</th>\n",
       "      <td>35</td>\n",
       "      <td>18</td>\n",
       "      <td>Female</td>\n",
       "      <td>150</td>\n",
       "      <td>2</td>\n",
       "      <td>Dark</td>\n",
       "      <td>3</td>\n",
       "      <td>1</td>\n",
       "    </tr>\n",
       "    <tr>\n",
       "      <th>35</th>\n",
       "      <td>36</td>\n",
       "      <td>45</td>\n",
       "      <td>Male</td>\n",
       "      <td>150</td>\n",
       "      <td>2</td>\n",
       "      <td>Dark</td>\n",
       "      <td>1</td>\n",
       "      <td>3</td>\n",
       "    </tr>\n",
       "    <tr>\n",
       "      <th>36</th>\n",
       "      <td>37</td>\n",
       "      <td>23</td>\n",
       "      <td>Male</td>\n",
       "      <td>220</td>\n",
       "      <td>4</td>\n",
       "      <td>Dark</td>\n",
       "      <td>3</td>\n",
       "      <td>2</td>\n",
       "    </tr>\n",
       "    <tr>\n",
       "      <th>37</th>\n",
       "      <td>38</td>\n",
       "      <td>42</td>\n",
       "      <td>Male</td>\n",
       "      <td>200</td>\n",
       "      <td>2</td>\n",
       "      <td>Milk</td>\n",
       "      <td>3</td>\n",
       "      <td>3</td>\n",
       "    </tr>\n",
       "    <tr>\n",
       "      <th>38</th>\n",
       "      <td>39</td>\n",
       "      <td>20</td>\n",
       "      <td>Female</td>\n",
       "      <td>150</td>\n",
       "      <td>5</td>\n",
       "      <td>Dark</td>\n",
       "      <td>2</td>\n",
       "      <td>4</td>\n",
       "    </tr>\n",
       "    <tr>\n",
       "      <th>39</th>\n",
       "      <td>40</td>\n",
       "      <td>44</td>\n",
       "      <td>Female</td>\n",
       "      <td>250</td>\n",
       "      <td>3</td>\n",
       "      <td>White</td>\n",
       "      <td>3</td>\n",
       "      <td>3</td>\n",
       "    </tr>\n",
       "    <tr>\n",
       "      <th>40</th>\n",
       "      <td>41</td>\n",
       "      <td>23</td>\n",
       "      <td>Female</td>\n",
       "      <td>220</td>\n",
       "      <td>4</td>\n",
       "      <td>Dark</td>\n",
       "      <td>2</td>\n",
       "      <td>1</td>\n",
       "    </tr>\n",
       "    <tr>\n",
       "      <th>41</th>\n",
       "      <td>42</td>\n",
       "      <td>24</td>\n",
       "      <td>Male</td>\n",
       "      <td>150</td>\n",
       "      <td>2</td>\n",
       "      <td>Dark</td>\n",
       "      <td>2</td>\n",
       "      <td>1</td>\n",
       "    </tr>\n",
       "    <tr>\n",
       "      <th>42</th>\n",
       "      <td>43</td>\n",
       "      <td>29</td>\n",
       "      <td>Male</td>\n",
       "      <td>180</td>\n",
       "      <td>4</td>\n",
       "      <td>White</td>\n",
       "      <td>2</td>\n",
       "      <td>4</td>\n",
       "    </tr>\n",
       "    <tr>\n",
       "      <th>43</th>\n",
       "      <td>44</td>\n",
       "      <td>32</td>\n",
       "      <td>Male</td>\n",
       "      <td>150</td>\n",
       "      <td>4</td>\n",
       "      <td>Dark</td>\n",
       "      <td>2</td>\n",
       "      <td>1</td>\n",
       "    </tr>\n",
       "    <tr>\n",
       "      <th>44</th>\n",
       "      <td>45</td>\n",
       "      <td>26</td>\n",
       "      <td>Female</td>\n",
       "      <td>250</td>\n",
       "      <td>2</td>\n",
       "      <td>White</td>\n",
       "      <td>4</td>\n",
       "      <td>3</td>\n",
       "    </tr>\n",
       "    <tr>\n",
       "      <th>45</th>\n",
       "      <td>46</td>\n",
       "      <td>40</td>\n",
       "      <td>Female</td>\n",
       "      <td>250</td>\n",
       "      <td>3</td>\n",
       "      <td>Dark</td>\n",
       "      <td>3</td>\n",
       "      <td>4</td>\n",
       "    </tr>\n",
       "    <tr>\n",
       "      <th>46</th>\n",
       "      <td>47</td>\n",
       "      <td>37</td>\n",
       "      <td>Female</td>\n",
       "      <td>220</td>\n",
       "      <td>5</td>\n",
       "      <td>White</td>\n",
       "      <td>2</td>\n",
       "      <td>4</td>\n",
       "    </tr>\n",
       "    <tr>\n",
       "      <th>47</th>\n",
       "      <td>48</td>\n",
       "      <td>23</td>\n",
       "      <td>Male</td>\n",
       "      <td>150</td>\n",
       "      <td>5</td>\n",
       "      <td>Dark</td>\n",
       "      <td>4</td>\n",
       "      <td>3</td>\n",
       "    </tr>\n",
       "    <tr>\n",
       "      <th>48</th>\n",
       "      <td>49</td>\n",
       "      <td>36</td>\n",
       "      <td>Male</td>\n",
       "      <td>180</td>\n",
       "      <td>4</td>\n",
       "      <td>White</td>\n",
       "      <td>3</td>\n",
       "      <td>3</td>\n",
       "    </tr>\n",
       "    <tr>\n",
       "      <th>49</th>\n",
       "      <td>50</td>\n",
       "      <td>24</td>\n",
       "      <td>Male</td>\n",
       "      <td>180</td>\n",
       "      <td>2</td>\n",
       "      <td>Dark</td>\n",
       "      <td>4</td>\n",
       "      <td>3</td>\n",
       "    </tr>\n",
       "  </tbody>\n",
       "</table>\n",
       "</div>"
      ],
      "text/plain": [
       "    Customer   Age      Sex  Groceries  Choco-bars  Type   Satisfied   Bulk\n",
       "30         31    40    Male        220           5  White           1     1\n",
       "31         32    36    Male        180           5   Milk           2     3\n",
       "32         33    22  Female        150           5   Dark           2     2\n",
       "33         34    32  Female        200           5   Milk           1     1\n",
       "34         35    18  Female        150           2   Dark           3     1\n",
       "35         36    45    Male        150           2   Dark           1     3\n",
       "36         37    23    Male        220           4   Dark           3     2\n",
       "37         38    42    Male        200           2   Milk           3     3\n",
       "38         39    20  Female        150           5   Dark           2     4\n",
       "39         40    44  Female        250           3  White           3     3\n",
       "40         41    23  Female        220           4   Dark           2     1\n",
       "41         42    24    Male        150           2   Dark           2     1\n",
       "42         43    29    Male        180           4  White           2     4\n",
       "43         44    32    Male        150           4   Dark           2     1\n",
       "44         45    26  Female        250           2  White           4     3\n",
       "45         46    40  Female        250           3   Dark           3     4\n",
       "46         47    37  Female        220           5  White           2     4\n",
       "47         48    23    Male        150           5   Dark           4     3\n",
       "48         49    36    Male        180           4  White           3     3\n",
       "49         50    24    Male        180           2   Dark           4     3"
      ]
     },
     "execution_count": 128,
     "metadata": {},
     "output_type": "execute_result"
    }
   ],
   "source": [
    "df.tail(20)  ### Last 5 values its shwoing me"
   ]
  },
  {
   "cell_type": "code",
   "execution_count": 129,
   "id": "d739c04a",
   "metadata": {},
   "outputs": [
    {
     "data": {
      "text/plain": [
       "(50, 8)"
      ]
     },
     "execution_count": 129,
     "metadata": {},
     "output_type": "execute_result"
    }
   ],
   "source": [
    "df.shape  ### Number of Rows, Columns"
   ]
  },
  {
   "cell_type": "code",
   "execution_count": 130,
   "id": "5a96e499",
   "metadata": {
    "collapsed": true
   },
   "outputs": [
    {
     "data": {
      "text/html": [
       "<div>\n",
       "<style scoped>\n",
       "    .dataframe tbody tr th:only-of-type {\n",
       "        vertical-align: middle;\n",
       "    }\n",
       "\n",
       "    .dataframe tbody tr th {\n",
       "        vertical-align: top;\n",
       "    }\n",
       "\n",
       "    .dataframe thead th {\n",
       "        text-align: right;\n",
       "    }\n",
       "</style>\n",
       "<table border=\"1\" class=\"dataframe\">\n",
       "  <thead>\n",
       "    <tr style=\"text-align: right;\">\n",
       "      <th></th>\n",
       "      <th>Customer</th>\n",
       "      <th>Age</th>\n",
       "      <th>Sex</th>\n",
       "      <th>Groceries</th>\n",
       "      <th>Choco-bars</th>\n",
       "      <th>Type</th>\n",
       "      <th>Satisfied</th>\n",
       "      <th>Bulk</th>\n",
       "    </tr>\n",
       "  </thead>\n",
       "  <tbody>\n",
       "    <tr>\n",
       "      <th>0</th>\n",
       "      <td>1</td>\n",
       "      <td>36</td>\n",
       "      <td>Male</td>\n",
       "      <td>180</td>\n",
       "      <td>3</td>\n",
       "      <td>White</td>\n",
       "      <td>4</td>\n",
       "      <td>3</td>\n",
       "    </tr>\n",
       "    <tr>\n",
       "      <th>1</th>\n",
       "      <td>2</td>\n",
       "      <td>45</td>\n",
       "      <td>Male</td>\n",
       "      <td>180</td>\n",
       "      <td>4</td>\n",
       "      <td>Milk</td>\n",
       "      <td>3</td>\n",
       "      <td>2</td>\n",
       "    </tr>\n",
       "    <tr>\n",
       "      <th>2</th>\n",
       "      <td>3</td>\n",
       "      <td>20</td>\n",
       "      <td>Female</td>\n",
       "      <td>220</td>\n",
       "      <td>3</td>\n",
       "      <td>White</td>\n",
       "      <td>2</td>\n",
       "      <td>3</td>\n",
       "    </tr>\n",
       "    <tr>\n",
       "      <th>3</th>\n",
       "      <td>4</td>\n",
       "      <td>27</td>\n",
       "      <td>Female</td>\n",
       "      <td>180</td>\n",
       "      <td>2</td>\n",
       "      <td>White</td>\n",
       "      <td>4</td>\n",
       "      <td>2</td>\n",
       "    </tr>\n",
       "    <tr>\n",
       "      <th>4</th>\n",
       "      <td>5</td>\n",
       "      <td>22</td>\n",
       "      <td>Female</td>\n",
       "      <td>220</td>\n",
       "      <td>5</td>\n",
       "      <td>Milk</td>\n",
       "      <td>3</td>\n",
       "      <td>2</td>\n",
       "    </tr>\n",
       "  </tbody>\n",
       "</table>\n",
       "</div>"
      ],
      "text/plain": [
       "   Customer   Age      Sex  Groceries  Choco-bars  Type   Satisfied   Bulk\n",
       "0          1    36    Male        180           3  White           4     3\n",
       "1          2    45    Male        180           4   Milk           3     2\n",
       "2          3    20  Female        220           3  White           2     3\n",
       "3          4    27  Female        180           2  White           4     2\n",
       "4          5    22  Female        220           5   Milk           3     2"
      ]
     },
     "execution_count": 130,
     "metadata": {},
     "output_type": "execute_result"
    }
   ],
   "source": [
    "data = df.copy()  ### Data Pre-processing\n",
    "data.head()"
   ]
  },
  {
   "cell_type": "code",
   "execution_count": 131,
   "id": "b9502fb9",
   "metadata": {
    "collapsed": true
   },
   "outputs": [
    {
     "name": "stdout",
     "output_type": "stream",
     "text": [
      "<class 'pandas.core.frame.DataFrame'>\n",
      "RangeIndex: 50 entries, 0 to 49\n",
      "Data columns (total 8 columns):\n",
      " #   Column      Non-Null Count  Dtype \n",
      "---  ------      --------------  ----- \n",
      " 0   Customer    50 non-null     int64 \n",
      " 1   Age         50 non-null     int64 \n",
      " 2   Sex         50 non-null     object\n",
      " 3   Groceries   50 non-null     int64 \n",
      " 4   Choco-bars  50 non-null     int64 \n",
      " 5   Type        50 non-null     object\n",
      " 6   Satisfied   50 non-null     int64 \n",
      " 7   Bulk        50 non-null     int64 \n",
      "dtypes: int64(6), object(2)\n",
      "memory usage: 3.2+ KB\n"
     ]
    }
   ],
   "source": [
    "data.info()  ### Information about the data"
   ]
  },
  {
   "cell_type": "code",
   "execution_count": 132,
   "id": "34cbbc24",
   "metadata": {},
   "outputs": [],
   "source": [
    "df1 = pd.read_csv(\"E:/Top Mentor/Datasets/Employee.csv\")"
   ]
  },
  {
   "cell_type": "code",
   "execution_count": 133,
   "id": "ce05c479",
   "metadata": {
    "collapsed": true
   },
   "outputs": [
    {
     "data": {
      "text/html": [
       "<div>\n",
       "<style scoped>\n",
       "    .dataframe tbody tr th:only-of-type {\n",
       "        vertical-align: middle;\n",
       "    }\n",
       "\n",
       "    .dataframe tbody tr th {\n",
       "        vertical-align: top;\n",
       "    }\n",
       "\n",
       "    .dataframe thead th {\n",
       "        text-align: right;\n",
       "    }\n",
       "</style>\n",
       "<table border=\"1\" class=\"dataframe\">\n",
       "  <thead>\n",
       "    <tr style=\"text-align: right;\">\n",
       "      <th></th>\n",
       "      <th>Role</th>\n",
       "      <th>Name</th>\n",
       "      <th>Building</th>\n",
       "      <th>Years_employed</th>\n",
       "    </tr>\n",
       "  </thead>\n",
       "  <tbody>\n",
       "    <tr>\n",
       "      <th>0</th>\n",
       "      <td>Engineer</td>\n",
       "      <td>Becky A.</td>\n",
       "      <td>1e</td>\n",
       "      <td>4</td>\n",
       "    </tr>\n",
       "    <tr>\n",
       "      <th>1</th>\n",
       "      <td>Engineer</td>\n",
       "      <td>Dan B.</td>\n",
       "      <td>1e</td>\n",
       "      <td>2</td>\n",
       "    </tr>\n",
       "    <tr>\n",
       "      <th>2</th>\n",
       "      <td>Engineer</td>\n",
       "      <td>Sharon F.</td>\n",
       "      <td>1e</td>\n",
       "      <td>6</td>\n",
       "    </tr>\n",
       "    <tr>\n",
       "      <th>3</th>\n",
       "      <td>Engineer</td>\n",
       "      <td>Dan M.</td>\n",
       "      <td>1e</td>\n",
       "      <td>4</td>\n",
       "    </tr>\n",
       "    <tr>\n",
       "      <th>4</th>\n",
       "      <td>Engineer</td>\n",
       "      <td>Malcom S.</td>\n",
       "      <td>1e</td>\n",
       "      <td>1</td>\n",
       "    </tr>\n",
       "  </tbody>\n",
       "</table>\n",
       "</div>"
      ],
      "text/plain": [
       "       Role       Name Building  Years_employed\n",
       "0  Engineer   Becky A.       1e               4\n",
       "1  Engineer     Dan B.       1e               2\n",
       "2  Engineer  Sharon F.       1e               6\n",
       "3  Engineer     Dan M.       1e               4\n",
       "4  Engineer  Malcom S.       1e               1"
      ]
     },
     "execution_count": 133,
     "metadata": {},
     "output_type": "execute_result"
    }
   ],
   "source": [
    "df1.head()"
   ]
  },
  {
   "cell_type": "code",
   "execution_count": 134,
   "id": "503311a5",
   "metadata": {
    "collapsed": true
   },
   "outputs": [
    {
     "data": {
      "text/html": [
       "<div>\n",
       "<style scoped>\n",
       "    .dataframe tbody tr th:only-of-type {\n",
       "        vertical-align: middle;\n",
       "    }\n",
       "\n",
       "    .dataframe tbody tr th {\n",
       "        vertical-align: top;\n",
       "    }\n",
       "\n",
       "    .dataframe thead th {\n",
       "        text-align: right;\n",
       "    }\n",
       "</style>\n",
       "<table border=\"1\" class=\"dataframe\">\n",
       "  <thead>\n",
       "    <tr style=\"text-align: right;\">\n",
       "      <th></th>\n",
       "      <th>Customer</th>\n",
       "      <th>Age</th>\n",
       "      <th>Groceries</th>\n",
       "      <th>Choco-bars</th>\n",
       "      <th>Satisfied</th>\n",
       "      <th>Bulk</th>\n",
       "    </tr>\n",
       "  </thead>\n",
       "  <tbody>\n",
       "    <tr>\n",
       "      <th>count</th>\n",
       "      <td>50.00000</td>\n",
       "      <td>50.000000</td>\n",
       "      <td>50.000000</td>\n",
       "      <td>50.00000</td>\n",
       "      <td>50.000000</td>\n",
       "      <td>50.000000</td>\n",
       "    </tr>\n",
       "    <tr>\n",
       "      <th>mean</th>\n",
       "      <td>25.50000</td>\n",
       "      <td>30.400000</td>\n",
       "      <td>196.200000</td>\n",
       "      <td>3.42000</td>\n",
       "      <td>2.720000</td>\n",
       "      <td>2.580000</td>\n",
       "    </tr>\n",
       "    <tr>\n",
       "      <th>std</th>\n",
       "      <td>14.57738</td>\n",
       "      <td>8.342172</td>\n",
       "      <td>34.040192</td>\n",
       "      <td>1.12649</td>\n",
       "      <td>1.050559</td>\n",
       "      <td>1.144463</td>\n",
       "    </tr>\n",
       "    <tr>\n",
       "      <th>min</th>\n",
       "      <td>1.00000</td>\n",
       "      <td>18.000000</td>\n",
       "      <td>150.000000</td>\n",
       "      <td>2.00000</td>\n",
       "      <td>1.000000</td>\n",
       "      <td>1.000000</td>\n",
       "    </tr>\n",
       "    <tr>\n",
       "      <th>25%</th>\n",
       "      <td>13.25000</td>\n",
       "      <td>23.000000</td>\n",
       "      <td>180.000000</td>\n",
       "      <td>2.00000</td>\n",
       "      <td>2.000000</td>\n",
       "      <td>1.250000</td>\n",
       "    </tr>\n",
       "    <tr>\n",
       "      <th>50%</th>\n",
       "      <td>25.50000</td>\n",
       "      <td>29.500000</td>\n",
       "      <td>200.000000</td>\n",
       "      <td>3.00000</td>\n",
       "      <td>3.000000</td>\n",
       "      <td>3.000000</td>\n",
       "    </tr>\n",
       "    <tr>\n",
       "      <th>75%</th>\n",
       "      <td>37.75000</td>\n",
       "      <td>37.750000</td>\n",
       "      <td>220.000000</td>\n",
       "      <td>4.00000</td>\n",
       "      <td>4.000000</td>\n",
       "      <td>3.750000</td>\n",
       "    </tr>\n",
       "    <tr>\n",
       "      <th>max</th>\n",
       "      <td>50.00000</td>\n",
       "      <td>45.000000</td>\n",
       "      <td>250.000000</td>\n",
       "      <td>5.00000</td>\n",
       "      <td>4.000000</td>\n",
       "      <td>4.000000</td>\n",
       "    </tr>\n",
       "  </tbody>\n",
       "</table>\n",
       "</div>"
      ],
      "text/plain": [
       "       Customer        Age    Groceries  Choco-bars  Satisfied        Bulk\n",
       "count   50.00000  50.000000   50.000000    50.00000   50.000000  50.000000\n",
       "mean    25.50000  30.400000  196.200000     3.42000    2.720000   2.580000\n",
       "std     14.57738   8.342172   34.040192     1.12649    1.050559   1.144463\n",
       "min      1.00000  18.000000  150.000000     2.00000    1.000000   1.000000\n",
       "25%     13.25000  23.000000  180.000000     2.00000    2.000000   1.250000\n",
       "50%     25.50000  29.500000  200.000000     3.00000    3.000000   3.000000\n",
       "75%     37.75000  37.750000  220.000000     4.00000    4.000000   3.750000\n",
       "max     50.00000  45.000000  250.000000     5.00000    4.000000   4.000000"
      ]
     },
     "execution_count": 134,
     "metadata": {},
     "output_type": "execute_result"
    }
   ],
   "source": [
    "data.describe()  ### which are numerical in nature\n",
    "#### Descriptive Statistics of you data"
   ]
  },
  {
   "cell_type": "code",
   "execution_count": null,
   "id": "c92ea749",
   "metadata": {},
   "outputs": [],
   "source": []
  }
 ],
 "metadata": {
  "kernelspec": {
   "display_name": "Python 3",
   "language": "python",
   "name": "python3"
  },
  "language_info": {
   "codemirror_mode": {
    "name": "ipython",
    "version": 3
   },
   "file_extension": ".py",
   "mimetype": "text/x-python",
   "name": "python",
   "nbconvert_exporter": "python",
   "pygments_lexer": "ipython3",
   "version": "3.8.8"
  }
 },
 "nbformat": 4,
 "nbformat_minor": 5
}
